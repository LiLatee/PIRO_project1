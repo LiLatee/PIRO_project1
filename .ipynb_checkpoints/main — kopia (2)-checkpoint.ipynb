{
 "cells": [
  {
   "cell_type": "code",
   "execution_count": 1,
   "metadata": {},
   "outputs": [],
   "source": [
    "import sys\n",
    "import os\n",
    "import glob\n",
    "from skimage import io\n",
    "from matplotlib import pyplot as plt\n",
    "from skimage.transform import resize, rotate\n",
    "from skimage.measure import find_contours, approximate_polygon, regionprops, label\n",
    "from skimage.color import label2rgb\n",
    "from skimage.draw import circle_perimeter, rectangle_perimeter, circle\n",
    "from skimage.util import invert\n",
    "from skimage import color\n",
    "from skimage.morphology import closing, opening, disk, erosion, dilation\n",
    "from skimage.transform import probabilistic_hough_line\n",
    "from skimage.feature import canny\n",
    "import math \n",
    "import numpy as np"
   ]
  },
  {
   "cell_type": "code",
   "execution_count": 2,
   "metadata": {},
   "outputs": [],
   "source": [
    "# do wersji v1\n",
    "def get_line_length(point1, point2):\n",
    "    return math.pow((point1[0]-point2[0])**2 + (point1[1]-point2[1])**2 , 0.5)\n",
    "def get_angle_of_line(line):\n",
    "    (point1, point2) = line\n",
    "    return math.atan2(point2[1] - point1[1], point2[0] - point1[0]) * 180 / np.pi\n",
    "\n",
    "def get_angle_to_rotate_image(image):\n",
    "    thresh = threshold_otsu(image)\n",
    "    image = image > thresh\n",
    "    edges = canny(image, sigma=1, low_threshold=False, high_threshold=True)\n",
    "    min_length = image.shape[0] if image.shape[0] >= image.shape[1] else image.shape[1]\n",
    "    lines = probabilistic_hough_line(edges, threshold=10, line_length=int(min_length/2),\n",
    "                                     line_gap=10)\n",
    "\n",
    "    longest_line = (lines[0],  get_line_lenght(lines[0][0], lines[0][1]))\n",
    "    for line in lines:\n",
    "        temp_lenght = get_line_lenght(line[0], line[1])\n",
    "        if temp_lenght > longest_line[1]:\n",
    "            longest_line = (line, temp_lenght)\n",
    "\n",
    "    angle = get_angle_of_line(longest_line[0])\n",
    "    return angle"
   ]
  },
  {
   "cell_type": "code",
   "execution_count": 3,
   "metadata": {},
   "outputs": [],
   "source": [
    "# do wersji v2 - nieużywane na razie\n",
    "from skimage.transform import probabilistic_hough_line\n",
    "from skimage.feature import canny\n",
    "\n",
    "\n",
    "def compare_2_numbers_with_range(n1, n2, range=3):\n",
    "    difference = abs(n1-n2)\n",
    "    return difference <= range\n",
    "compare_2_numbers_with_range(5.40, 3.10, 3)\n",
    "\n",
    "def compare_2_points_with_range(point1, point2, range=3):\n",
    "    x1, y1 = point1\n",
    "    x2, y2 = point2\n",
    "    return compare_2_numbers_with_range(x1, x2, range) and compare_2_numbers_with_range(y1, y2, range)\n",
    "compare_2_points_with_range((10,20), (8,27), 5)\n",
    "\n",
    "def check_if_perpendicular_lines(line1, line2):\n",
    "    point11, point12 = line1\n",
    "    point21, point22 = line2\n",
    "    if compare_2_points_with_range(point11, point21, 10) or compare_2_points_with_range(point11, point22, 10) or compare_2_points_with_range(point12, point21, 10):     \n",
    "        angle_between_lines = abs(get_angle_of_line(line1)-get_angle_of_line(line2))\n",
    "#         print(\"line1: \", line1)\n",
    "#         print(\"line2: \", line2)\n",
    "#         print(\"get_angle_of_line(line1): \", get_angle_of_line(line1))\n",
    "#         print(\"get_angle_of_line(line2): \", get_angle_of_line(line2))\n",
    "#         print(\"angle_between_lines: \", angle_between_lines)\n",
    "        if compare_2_numbers_with_range(angle_between_lines, 90, 10) or compare_2_numbers_with_range(angle_between_lines, 270, 10):\n",
    "            return True\n",
    "    \n",
    "    return False\n",
    "\n",
    "# def check_if_parallel_lines(line1, line2):\n",
    "#     point11, point12 = line1\n",
    "#     point21, point22 = line2\n",
    "#     if compare_2_points_with_range(point11, point21, 10) or compare_2_points_with_range(point11, point22, 10) or compare_2_points_with_range(point12, point21, 10):     \n",
    "#         angle_between_lines = abs(get_angle_of_line(line1)-get_angle_of_line(line2))\n",
    "#         if compare_2_numbers_with_range(angle_between_lines, 0, 5):\n",
    "#             return True\n",
    "    \n",
    "    return False\n",
    "\n",
    "def get_base_line(image):\n",
    "    thresh = threshold_otsu(image)\n",
    "    image = image > thresh\n",
    "    edges = canny(image, sigma=1, low_threshold=False, high_threshold=True)\n",
    "    min_length = image.shape[0] if image.shape[0] >= image.shape[1] else image.shape[1]\n",
    "    lines = probabilistic_hough_line(edges, threshold=10, line_length=5,\n",
    "                                     line_gap=10)\n",
    "    possible_baselines = list()\n",
    "    for line1 in lines:\n",
    "        counter = 0\n",
    "        for line2 in lines:\n",
    "#             if check_if_parallel_lines(line1, line2):\n",
    "#                 continue\n",
    "            if check_if_perpendicular_lines(line1, line2):\n",
    "                counter += 1\n",
    "        if counter >= 2:\n",
    "            possible_baselines.append(line1)\n",
    "            \n",
    "    if len(possible_baselines) == 0:\n",
    "        return None\n",
    "\n",
    "    longest_line = possible_baselines[0]\n",
    "    longest_distance = get_line_lenght(possible_baselines[0][0],possible_baselines[0][1])\n",
    "    for line in possible_baselines[1:]:\n",
    "        temp = get_line_lenght(line[0], line[1])\n",
    "        if temp > longest_distance:\n",
    "            longest_distance = temp\n",
    "            longest_line = line\n",
    "    \n",
    "    return longest_line\n",
    "\n"
   ]
  },
  {
   "cell_type": "code",
   "execution_count": 52,
   "metadata": {},
   "outputs": [
    {
     "name": "stdout",
     "output_type": "stream",
     "text": [
      "{(49.0, 2.1666666666666665), (2.4166666666666665, 101.0)}\n",
      "{(96.0, 50.629629629629626), (49.0, 2.1666666666666665), (2.4166666666666665, 101.0)}\n",
      "{(49.0, 2.1666666666666665), (2.4166666666666665, 101.0)}\n"
     ]
    },
    {
     "data": {
      "text/plain": [
       "<matplotlib.image.AxesImage at 0x1fd96f32fa0>"
      ]
     },
     "execution_count": 52,
     "metadata": {},
     "output_type": "execute_result"
    },
    {
     "data": {
      "image/png": "[encoded data removed]",
      "text/plain": [
       "<Figure size 432x288 with 1 Axes>"
      ]
     },
     "metadata": {
      "needs_background": "light"
     },
     "output_type": "display_data"
    }
   ],
   "source": [
    "# do wersji v3 - szukanie punktów skrajnych\n",
    "def get_extreme_points(image):\n",
    "    \n",
    "    contour = find_contours(image, level=3)[0]\n",
    "    detected_points = approximate_polygon(contour, tolerance=2)\n",
    "    minHeight = image.shape[0]-1\n",
    "    maxHeight = 0 \n",
    "    minWidth = image.shape[1]-1 \n",
    "    maxWidth = 0 \n",
    "    for height, width in detected_points:\n",
    "        if height <= minHeight:\n",
    "            minHeight = height\n",
    "        if width <= minWidth:\n",
    "            minWidth = width\n",
    "            \n",
    "        if height >= maxHeight:\n",
    "            maxHeight = height\n",
    "        if width >= maxWidth:\n",
    "            maxWidth = width\n",
    "            \n",
    "    extreme_points = set()\n",
    "    image = color.grey2rgb(image)\n",
    "    for height, width in detected_points:  \n",
    "        if height == minHeight or height == maxHeight or width == minWidth or width == maxWidth:\n",
    "            rr, cc = circle_perimeter(int(height),int(width), 3)\n",
    "            image[rr, cc] = [255,0,0]\n",
    "            extreme_points.add((height, width))\n",
    "        \n",
    "    return image, extreme_points\n",
    "\n",
    "# image = io.imread(images_paths[5])\n",
    "# io.imshow(image[50-10:50+10,5-10:5+10])\n",
    "# image, p = get_extreme_points(image) \n",
    "# print(p)\n",
    "# io.imshow(image)\n",
    "\n",
    "def clamp(n, smallest, largest): \n",
    "    return max(smallest, min(n, largest))\n",
    "# def check_if_it_is_right_angle(image, point, radius=10):\n",
    "#     (height, width) = point\n",
    "#     height = int(height)\n",
    "#     width = int(width)\n",
    "#     (image_height, image_width) = image.shape\n",
    "    \n",
    "#     right_width_min = clamp(width-radius-1, 0, image_width)\n",
    "#     right_width_max = clamp(width+radius+1, 0, image_width)\n",
    "#     right_height_min = clamp(height-radius-1, 0, image_height)\n",
    "#     right_height_max = clamp(height+radius+1, 0, image_height)\n",
    "#     print(right_width_min, right_width_max, right_height_min, right_height_max)\n",
    "#     slice_of_image = image[right_height_min:right_height_max, right_width_min:right_width_max]\n",
    "    \n",
    "# #     thresh = threshold_otsu(slice_of_image)\n",
    "#     thresh = 127\n",
    "#     slice_of_image = slice_of_image > thresh\n",
    "    \n",
    "#     labeled = label(slice_of_image)\n",
    "#     print(point)\n",
    "#     print(len(labeled))\n",
    "#     props = regionprops(labeled)\n",
    "#     white_area = props[0].area\n",
    "#     black_area = (radius*2+1)**2-white_area\n",
    "    \n",
    "#     white_to_black_ratio = white_area/(white_area+black_area)\n",
    "\n",
    "#     print(white_area)\n",
    "#     print(black_area)\n",
    "#     print(white_to_black_ratio)\n",
    "#     print(\"=========================\")\n",
    "#     return True if compare_2_numbers_with_range(0.25, white_to_black_ratio, 0.03) else False\n",
    "\n",
    "def check_if_it_is_right_angle_using_angles_of_lines(image, point, radius=10):\n",
    "    (height, width) = point\n",
    "    height = int(height)\n",
    "    width = int(width)\n",
    "    (image_height, image_width) = image.shape\n",
    "    \n",
    "#     image = color.gray2rgb(image)\n",
    "#     image[height, width] = (255,0,0)\n",
    "    point_height_in_sliced_image = radius+1\n",
    "    point_width_in_sliced_image = radius+1\n",
    "    if height-radius < 0 :\n",
    "        point_height_in_sliced_image = radius - (radius-height)\n",
    "    if width-radius < 0:\n",
    "        point_width_in_sliced_image = radius - (radius-width)\n",
    "    middle_point = (point_height_in_sliced_image, point_width_in_sliced_image)\n",
    "#     print(\"nowe\")\n",
    "#     print(point_height_in_sliced_image)\n",
    "#     print(point_width_in_sliced_image)\n",
    "    right_width_min = clamp(width-radius-1, 0, image_width)\n",
    "    right_width_max = clamp(width+radius+1, 0, image_width)\n",
    "    right_height_min = clamp(height-radius-1, 0, image_height)\n",
    "    right_height_max = clamp(height+radius+1, 0, image_height)\n",
    "#     print(right_width_min, right_width_max, right_height_min, right_height_max)\n",
    "    slice_of_image = image[right_height_min:right_height_max, right_width_min:right_width_max]\n",
    "    \n",
    "    \n",
    "    edges = canny(slice_of_image)\n",
    "    positions_of_whites = np.where(edges==True)\n",
    "    positions_of_whites = list(zip(positions_of_whites[0],positions_of_whites[1]))\n",
    "    first_point = None\n",
    "    first_point_angle = None\n",
    "    first_list_points_in_one_line = set()\n",
    "    \n",
    "    for white_point in positions_of_whites:\n",
    "        if get_line_length(middle_point, white_point) > radius/5:\n",
    "            if first_point is None:\n",
    "                first_point = white_point\n",
    "                first_point_angle = get_angle_of_line((middle_point, first_point))\n",
    "            elif len(first_list_points_in_one_line) < 4:\n",
    "                temp_angle = get_angle_of_line((middle_point, white_point))\n",
    "                if compare_2_numbers_with_range(first_point_angle, temp_angle, 5):\n",
    "                    first_list_points_in_one_line.add(white_point)\n",
    "            elif len(first_list_points_in_one_line) == 4:\n",
    "                break\n",
    "                \n",
    "    second_point = None\n",
    "    second_point_angle = None\n",
    "    second_list_points_in_one_line = set()\n",
    "#     print(\"middle_point: \", middle_point)\n",
    "#     print(\"first_point: \", first_point)\n",
    "    for white_point in positions_of_whites:\n",
    "        if get_line_length(middle_point, white_point) > radius/2:\n",
    "            second_point_angle = get_angle_of_line((middle_point, white_point))\n",
    "#             print(\"first_point_angle: \",first_point_angle)\n",
    "#             print(\"second_point_angle: \",second_point_angle)\n",
    "            if compare_2_numbers_with_range(second_point_angle, first_point_angle, 10):\n",
    "                continue\n",
    "                \n",
    "            if second_point is None:\n",
    "                second_point = white_point\n",
    "#                 print(\"second_point: \", second_point)\n",
    "            elif len(second_list_points_in_one_line) < 4:\n",
    "                temp_angle = get_angle_of_line((middle_point, white_point))\n",
    "                if compare_2_numbers_with_range(second_point_angle, temp_angle, 5):\n",
    "                    second_list_points_in_one_line.add(white_point)\n",
    "            elif len(second_list_points_in_one_line) == 4:\n",
    "                break\n",
    "#     print(first_list_points_in_one_line)\n",
    "#     print(second_list_points_in_one_line)\n",
    "    if len(first_list_points_in_one_line) == 4 and len(second_list_points_in_one_line) == 4:               \n",
    "        if check_if_perpendicular_lines((middle_point,first_point),(middle_point,second_point)):\n",
    "#                     if image.shape[0] == 114:\n",
    "#                         print(middle_point)\n",
    "#                         print(first_point)\n",
    "#                         print(white_point)\n",
    "            return True\n",
    "    return False\n",
    "\n",
    "\n",
    "def get_points_with_right_angle_using_angles_of_lines(image):\n",
    "    contour = find_contours(image, level=10)[0]\n",
    "    detected_points = approximate_polygon(contour, tolerance=5)\n",
    "    points_with_right_angle = set()\n",
    "    for c in detected_points:\n",
    "        if check_if_it_is_right_angle_using_angles_of_lines(image=image, point=(c[0],c[1]), radius=30):\n",
    "            points_with_right_angle.add((c[0],c[1]))\n",
    "    \n",
    "    return points_with_right_angle\n",
    "\n",
    "def check_if_it_is_right_angle_using_areas_of_neighborhood(image, point, radius=10):\n",
    "    (height, width) = point\n",
    "    height = int(height)\n",
    "    width = int(width)\n",
    "    (image_height, image_width) = image.shape\n",
    "    \n",
    "    right_width_min = clamp(width-radius-1, 0, image_width)\n",
    "    right_width_max = clamp(width+radius+1, 0, image_width)\n",
    "    right_height_min = clamp(height-radius-1, 0, image_height)\n",
    "    right_height_max = clamp(height+radius+1, 0, image_height)\n",
    "#     print(right_width_min, right_width_max, right_height_min, right_height_max)\n",
    "    slice_of_image = image[right_height_min:right_height_max, right_width_min:right_width_max]\n",
    "    \n",
    "#     thresh = threshold_otsu(slice_of_image)\n",
    "    thresh = 127\n",
    "    slice_of_image = slice_of_image > thresh\n",
    "    \n",
    "    labeled = label(slice_of_image)\n",
    "\n",
    "    props = regionprops(labeled)\n",
    "    white_area = props[0].area\n",
    "    black_area = (radius*2+1)**2-white_area\n",
    "    \n",
    "    white_to_black_ratio = white_area/(white_area+black_area)\n",
    "\n",
    "    return True if compare_2_numbers_with_range(0.25, white_to_black_ratio, 0.03) else False\n",
    "\n",
    "\n",
    "def get_points_with_right_angle_using_areas_of_neighborhood(image):\n",
    "    contour = find_contours(image, level=10)[0]\n",
    "    appr_pol = approximate_polygon(contour, tolerance=5)\n",
    "    \n",
    "    points_with_right_angle = set()\n",
    "    for c in appr_pol:\n",
    "        if check_if_it_is_right_angle_using_areas_of_neighborhood(image=image, point=(c[0],c[1]), radius=30):\n",
    "            points_with_right_angle.add((c[0],c[1]))\n",
    "    \n",
    "    return points_with_right_angle\n",
    "\n",
    "\n",
    "# img = io.imread(images_paths[6])\n",
    "# img2 = check_if_it_is_right_angle_using_angles_of_lines(img, (11.065359477124183, 89.0), radius=30)\n",
    "# io.imshow(canny(img2))\n",
    "#########################\n",
    "img = io.imread(images_paths[19])\n",
    "points1 = get_points_with_right_angle_using_angles_of_lines(img)\n",
    "points2 = get_points_with_right_angle_using_areas_of_neighborhood(img)\n",
    "print(points1)\n",
    "print(points2)\n",
    "print(points1.intersection(points2))\n",
    "io.imshow(img)\n",
    "# 6,9 ,10, 16, 18"
   ]
  },
  {
   "cell_type": "markdown",
   "metadata": {},
   "source": [
    "#### check_if_perpendicular_lines(((3,31),(10,25)),((3,31),(10,38)))"
   ]
  },
  {
   "cell_type": "code",
   "execution_count": 334,
   "metadata": {},
   "outputs": [
    {
     "name": "stdout",
     "output_type": "stream",
     "text": [
      "first_point:  (1, 17)\n",
      "nie są prostopadłe, pomijamy\n",
      "nie są prostopadłe, pomijamy\n",
      "nie są prostopadłe, pomijamy\n",
      "nie są prostopadłe, pomijamy\n",
      "nie są prostopadłe, pomijamy\n",
      "nie są prostopadłe, pomijamy\n",
      "nie są prostopadłe, pomijamy\n",
      "nie są prostopadłe, pomijamy\n",
      "nie są prostopadłe, pomijamy\n",
      "nie są prostopadłe, pomijamy\n",
      "nie są prostopadłe, pomijamy\n",
      "nie są prostopadłe, pomijamy\n",
      "nie są prostopadłe, pomijamy\n",
      "nie są prostopadłe, pomijamy\n",
      "nie są prostopadłe, pomijamy\n",
      "nie są prostopadłe, pomijamy\n",
      "nie są prostopadłe, pomijamy\n",
      "nie są prostopadłe, pomijamy\n",
      "nie są prostopadłe, pomijamy\n",
      "nie są prostopadłe, pomijamy\n",
      "nie są prostopadłe, pomijamy\n",
      "nie są prostopadłe, pomijamy\n",
      "nie są prostopadłe, pomijamy\n",
      "nie są prostopadłe, pomijamy\n",
      "są prostopadłe, bierzemy\n",
      "(31, 19)\n",
      "(1, 17)\n",
      "(30, 40)\n",
      "3.8140748342903548\n",
      "7.594643368591445\n"
     ]
    },
    {
     "data": {
      "text/plain": [
       "<matplotlib.image.AxesImage at 0x2885ad7c610>"
      ]
     },
     "execution_count": 334,
     "metadata": {},
     "output_type": "execute_result"
    },
    {
     "data": {
      "image/png": "[encoded data removed]",
      "text/plain": [
       "<Figure size 432x288 with 1 Axes>"
      ]
     },
     "metadata": {
      "needs_background": "light"
     },
     "output_type": "display_data"
    }
   ],
   "source": [
    "img = check_if_it_is_right_angle_using_angles_of_lines(io.imread(images_paths[10]), (156.0, 19.24390244), radius=30)\n",
    "ca = canny(img)\n",
    "print(get_angle_of_line(((1,17),(31,19))))\n",
    "print(get_angle_of_line(((1,17),(16,19))))\n",
    "io.imshow(ca)"
   ]
  },
  {
   "cell_type": "code",
   "execution_count": 189,
   "metadata": {},
   "outputs": [
    {
     "name": "stdout",
     "output_type": "stream",
     "text": [
      "-135.0\n",
      "-135.0\n"
     ]
    }
   ],
   "source": [
    "print(get_angle_of_line(((11,11),(8,8))))\n",
    "print(get_angle_of_line(((11,11),(7,7))))"
   ]
  },
  {
   "cell_type": "code",
   "execution_count": 257,
   "metadata": {},
   "outputs": [],
   "source": [
    "from skimage.segmentation import clear_border\n",
    "from skimage.filters import threshold_otsu\n",
    "from skimage.morphology import closing, square\n",
    "def clear_images(images):\n",
    "    images_cleared = list()\n",
    "    for img in images:\n",
    "        thresh = threshold_otsu(img)\n",
    "        bw = closing(img > thresh, square(3))\n",
    "        cleared = clear_border(bw)\n",
    "        images_cleared.append(cleared)\n",
    "    return images_cleared\n",
    "\n",
    "def clear_image(image):\n",
    "    thresh = threshold_otsu(img)\n",
    "    bw = closing(img > thresh, square(3))\n",
    "    cleared = clear_border(bw)\n",
    "    return cleared\n",
    "\n",
    "def rotate_images(images):\n",
    "    images_rotated = list()\n",
    "    for img in images:\n",
    "        angle = get_angle_to_rotate_image(img)\n",
    "        img = rotate(img, angle).astype(np.uint8)\n",
    "        images_rotated.append(img)\n",
    "    return images_rotated\n",
    "\n",
    "def resize_images(images):  \n",
    "    max_height, max_width = images[0].shape\n",
    "    for image in images:\n",
    "        if image.shape[0] > max_height:\n",
    "            max_height = image.shape[0]\n",
    "        if image.shape[1] > max_width:\n",
    "            max_width = image.shape[1]\n",
    "#     shape = (longest_height, longest_width)\n",
    "#     images_resized = [(resize(img, shape)*255).astype(np.uint8) for img in images]\n",
    "    \n",
    "    images_resized = list()\n",
    "    for image in images:\n",
    "        scale = max_width/image.shape[1]\n",
    "        new_shape = (int(image.shape[0]*scale), int(image.shape[1]*scale))\n",
    "        resized_image = (resize(image, new_shape)*255).astype(np.uint8)\n",
    "        images_resized.append(resized_image)\n",
    "    \n",
    "    return images_resized\n",
    "\n",
    "def cut_images_sides(images):\n",
    "    images_rect = list()\n",
    "    images_cut = list()\n",
    "    for img in images:\n",
    "#         thresh = threshold_otsu(img)\n",
    "#         bw = closing(img > thresh, square(3))\n",
    "#         img = clear_border(bw)\n",
    "        \n",
    "        label_img, num = label(img, connectivity=2, return_num=True, background=0)\n",
    "        region_props = regionprops(label_img)\n",
    "#         print(num)\n",
    "#         print(region_props[0].bbox)\n",
    "        biggest_region = region_props[0]\n",
    "        for region in region_props:\n",
    "            if region.area > biggest_region.area:\n",
    "                biggest_region = region\n",
    "\n",
    "#         x,y = rectangle_perimeter((1,biggest_region.bbox[1]), (img.shape[0]-2,biggest_region.bbox[3]))\n",
    "#         x,y = rectangle_perimeter((biggest_region.bbox[0], biggest_region.bbox[1]), (biggest_region.bbox[2], biggest_region.bbox[3]))\n",
    "#         img = color.grey2rgb(img)\n",
    "#         img[x,y] = [255,0,0]\n",
    "#         images_rect.append(img)\n",
    "#         images_cut.append(img[:,biggest_region.bbox[1]:biggest_region.bbox[3]+1])\n",
    "        images_cut.append(img[biggest_region.bbox[0]:biggest_region.bbox[2],biggest_region.bbox[1]:biggest_region.bbox[3]+1])\n",
    "\n",
    "        \n",
    "    return images_cut"
   ]
  },
  {
   "cell_type": "code",
   "execution_count": 5,
   "metadata": {},
   "outputs": [],
   "source": [
    "# wersja używa najdłuższej linii w figurze jako podstawy, nie zawsze będzie działało dla późniejszych przykałdów\n",
    "def rotate_scale_and_cut_v1(images_paths):\n",
    "    images = [io.imread(path) for path in images_paths]\n",
    "    images = rotate_images(images)\n",
    "    images = cut_images_sides(images)\n",
    "    images = resize_images(images)\n",
    "    images = [img*255 for img in images]\n",
    "    images = [opening(closing(img, disk(9)), disk(9)) for img in images]\n",
    "#     for img in images:\n",
    "#         labeled = label(invert(img))\n",
    "#         props = regionprops(labeled)\n",
    "#         print(len(props))\n",
    "#     images = [invert(img) for img in images]   \n",
    "    return images\n",
    "\n",
    "# wersja szuka linii, które mają kąt prosty jako podstawa, działa słabiej\n",
    "def rotate_and_scale_v2(images_paths):\n",
    "    images_new = list()\n",
    "    images = [io.imread(path) for path in images_paths]\n",
    "    for i, image in enumerate(images):\n",
    "        base_line = get_base_line(image)\n",
    "        if base_line == None:\n",
    "            images_new.append(image)\n",
    "            print('Nie znaleziono podstawy dla obrazka numer (indeks w tablicy): ', i )\n",
    "            continue\n",
    "        angle = get_angle_of_line(base_line)\n",
    "        img = rotate(image, angle)\n",
    "        images_new.append(img)\n",
    "        \n",
    "    images_new = cut_images_sides(images_new)\n",
    "    images_new = resize_images(images_new)\n",
    "    images_new = [opening(closing(img, disk(9)), disk(9)) for img in images_new]\n",
    "    return images_new\n",
    "\n",
    "# def rotate_and_scale_v3(images_paths):\n",
    "#     images_changed = list()\n",
    "#     images = [io.imread(path) for path in images_paths]\n",
    "#     for image in images:\n",
    "        \n",
    "# #     images_new = cut_images_sides(images_new)\n",
    "# #     images_new = resize_images(images_new)\n",
    "# #     images_new = [opening(closing(img, disk(9)), disk(9)) for img in images_new]\n",
    "#     return images_changed"
   ]
  },
  {
   "cell_type": "code",
   "execution_count": 5,
   "metadata": {},
   "outputs": [],
   "source": [
    "n_of_cases = 5\n",
    "path = os.path.join('D:\\Dokumenty\\Projekty\\PIRO/project1/proj1_daneA\\set1', '')\n",
    "images_paths = glob.glob(os.path.join(path, '*.png'))\n",
    "\n",
    "images = rotate_scale_and_cut_v1(images_paths)\n",
    "\n",
    "fig = plt.figure(figsize=(50,50))\n",
    "columns = 5\n",
    "rows = (len(images_paths)/columns)+1\n",
    "for i, img in enumerate(images):\n",
    "    fig.add_subplot(rows, columns, i+1)\n",
    "    plt.imshow(img, cmap=plt.cm.gray)\n"
   ]
  },
  {
   "cell_type": "code",
   "execution_count": 7,
   "metadata": {},
   "outputs": [
    {
     "name": "stdout",
     "output_type": "stream",
     "text": [
      "(193, 294)\n"
     ]
    },
    {
     "data": {
      "text/plain": [
       "<matplotlib.image.AxesImage at 0x2885051ff40>"
      ]
     },
     "execution_count": 7,
     "metadata": {},
     "output_type": "execute_result"
    },
    {
     "data": {
      "image/png": "[encoded data removed]",
      "text/plain": [
       "<Figure size 432x288 with 1 Axes>"
      ]
     },
     "metadata": {
      "needs_background": "light"
     },
     "output_type": "display_data"
    }
   ],
   "source": [
    "print(images[5].shape)\n",
    "io.imshow(images[12])"
   ]
  },
  {
   "cell_type": "code",
   "execution_count": 8,
   "metadata": {},
   "outputs": [
    {
     "name": "stdout",
     "output_type": "stream",
     "text": [
      "(200, 294)\n"
     ]
    },
    {
     "data": {
      "text/plain": [
       "<matplotlib.image.AxesImage at 0x2884d02ed90>"
      ]
     },
     "execution_count": 8,
     "metadata": {},
     "output_type": "execute_result"
    },
    {
     "data": {
      "image/png": "[encoded data removed]",
      "text/plain": [
       "<Figure size 432x288 with 1 Axes>"
      ]
     },
     "metadata": {
      "needs_background": "light"
     },
     "output_type": "display_data"
    }
   ],
   "source": [
    "print(images[10].shape)\n",
    "io.imshow(images[7])"
   ]
  },
  {
   "cell_type": "code",
   "execution_count": 141,
   "metadata": {},
   "outputs": [
    {
     "name": "stdout",
     "output_type": "stream",
     "text": [
      "1\n",
      "(209, 214, 3)\n",
      "203.5 130.0\n",
      "94.0 4.285714285714286\n",
      "4.625 82.0\n",
      "22.113636363636363 86.0\n",
      "21.0 94.7872340425532\n",
      "30.294117647058822 93.0\n",
      "36.0 118.87179487179488\n",
      "88.0 102.71428571428571\n",
      "98.0 126.73684210526316\n",
      "130.0 119.79591836734694\n",
      "109.10958904109589 163.0\n",
      "118.00904977375566 167.0\n",
      "114.0 186.98224852071007\n",
      "136.13333333333333 179.0\n",
      "120.0 201.95384615384614\n",
      "203.5 130.0\n"
     ]
    },
    {
     "data": {
      "text/plain": [
       "<matplotlib.image.AxesImage at 0x28854b5b100>"
      ]
     },
     "execution_count": 141,
     "metadata": {},
     "output_type": "execute_result"
    },
    {
     "data": {
      "image/png": "[encoded data removed]",
      "text/plain": [
       "<Figure size 432x288 with 1 Axes>"
      ]
     },
     "metadata": {
      "needs_background": "light"
     },
     "output_type": "display_data"
    }
   ],
   "source": [
    "# przykład znajdowania punktów (kątów w sumie nwm)\n",
    "img = io.imread(images_paths[0])\n",
    "contours = find_contours(img, level=10)\n",
    "img = color.grey2rgb(img)\n",
    "print(len(contours))\n",
    "print(img.shape)\n",
    "for n, contour in enumerate(contours):\n",
    "    appr_pol = approximate_polygon(contour, tolerance=5)\n",
    "    for c in appr_pol:\n",
    "        print(c[0], c[1])\n",
    "        x,y = circle(int(c[0]),int(c[1]), 5)\n",
    "        img[x,y] = [255,0,0]\n",
    "        \n",
    "io.imshow(img)"
   ]
  },
  {
   "cell_type": "code",
   "execution_count": null,
   "metadata": {},
   "outputs": [],
   "source": []
  }
 ],
 "metadata": {
  "kernelspec": {
   "display_name": "Python 3",
   "language": "python",
   "name": "python3"
  },
  "language_info": {
   "codemirror_mode": {
    "name": "ipython",
    "version": 3
   },
   "file_extension": ".py",
   "mimetype": "text/x-python",
   "name": "python",
   "nbconvert_exporter": "python",
   "pygments_lexer": "ipython3",
   "version": "3.8.2"
  }
 },
 "nbformat": 4,
 "nbformat_minor": 4
}
