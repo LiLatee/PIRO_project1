{
 "cells": [
  {
   "cell_type": "code",
   "execution_count": 429,
   "metadata": {},
   "outputs": [],
   "source": [
    "import sys\n",
    "import os\n",
    "import glob\n",
    "from skimage import io\n",
    "from matplotlib import pyplot as plt\n",
    "from skimage.transform import resize, rotate\n",
    "from skimage.measure import find_contours, approximate_polygon, regionprops, label\n",
    "from skimage.color import label2rgb\n",
    "from skimage.draw import circle_perimeter, rectangle_perimeter\n",
    "from skimage.util import invert\n",
    "from skimage import color\n",
    "from skimage.morphology import closing, opening, disk"
   ]
  },
  {
   "cell_type": "code",
   "execution_count": 254,
   "metadata": {},
   "outputs": [],
   "source": [
    "# do wersji v1\n",
    "import math \n",
    "import numpy as np\n",
    "def get_line_lenght(point1, point2):\n",
    "    return math.pow((point1[0]-point2[0])**2 + (point1[1]-point2[1])**2 , 0.5)\n",
    "def get_angle_of_line(line):\n",
    "    (point1, point2) = line\n",
    "    return math.atan2(point2[1] - point1[1], point2[0] - point1[0]) * 180 / np.pi\n",
    "\n",
    "def get_angle_to_rotate_image(image):\n",
    "    thresh = threshold_otsu(image)\n",
    "    image = image > thresh\n",
    "    edges = canny(image, sigma=1, low_threshold=False, high_threshold=True)\n",
    "    min_length = image.shape[0] if image.shape[0] >= image.shape[1] else image.shape[1]\n",
    "    lines = probabilistic_hough_line(edges, threshold=10, line_length=int(min_length/2),\n",
    "                                     line_gap=10)\n",
    "\n",
    "    longest_line = (lines[0],  get_line_lenght(lines[0][0], lines[0][1]))\n",
    "    for line in lines:\n",
    "        temp_lenght = get_line_lenght(line[0], line[1])\n",
    "        if temp_lenght > longest_line[1]:\n",
    "            longest_line = (line, temp_lenght)\n",
    "\n",
    "    angle = get_angle_of_line(longest_line[0])\n",
    "    return angle"
   ]
  },
  {
   "cell_type": "code",
   "execution_count": 255,
   "metadata": {},
   "outputs": [],
   "source": [
    "# do wersji v2\n",
    "from skimage.transform import probabilistic_hough_line\n",
    "from skimage.feature import canny\n",
    "\n",
    "\n",
    "def compare_2_numbers_with_range(n1, n2, range=3):\n",
    "    difference = abs(n1-n2)\n",
    "    return difference <= range\n",
    "compare_2_numbers_with_range(5.40, 3.10, 3)\n",
    "\n",
    "def compare_2_points_with_range(point1, point2, range=3):\n",
    "    x1, y1 = point1\n",
    "    x2, y2 = point2\n",
    "    return compare_2_numbers_with_range(x1, x2, range) and compare_2_numbers_with_range(y1, y2, range)\n",
    "compare_2_points_with_range((10,20), (8,27), 5)\n",
    "\n",
    "def check_if_perpendicular_lines(line1, line2):\n",
    "    point11, point12 = line1\n",
    "    point21, point22 = line2\n",
    "    if compare_2_points_with_range(point11, point21, 10) or compare_2_points_with_range(point11, point22, 10) or compare_2_points_with_range(point12, point21, 10):     \n",
    "        angle_between_lines = abs(get_angle_of_line(line1)-get_angle_of_line(line2))\n",
    "        if compare_2_numbers_with_range(angle_between_lines, 90, 5):\n",
    "            return True\n",
    "    \n",
    "    return False\n",
    "\n",
    "def get_base_line(img):\n",
    "    thresh = threshold_otsu(image)\n",
    "    image = image > thresh\n",
    "    edges = canny(image, sigma=1, low_threshold=False, high_threshold=True)\n",
    "    min_length = image.shape[0] if image.shape[0] >= image.shape[1] else image.shape[1]\n",
    "    lines = probabilistic_hough_line(edges, threshold=10, line_length=int(min_length/2),\n",
    "                                     line_gap=10)\n",
    "    \n",
    "    for line1 in lines:\n",
    "        counter = 0\n",
    "        for line2 in lines:\n",
    "            if check_if_perpendicular_lines(line1, line2):\n",
    "                counter += 1\n",
    "        if counter >= 2:\n",
    "            return line1\n",
    "    \n",
    "    return None\n",
    "\n"
   ]
  },
  {
   "cell_type": "code",
   "execution_count": 417,
   "metadata": {},
   "outputs": [],
   "source": [
    "from skimage.segmentation import clear_border\n",
    "from skimage.filters import threshold_otsu\n",
    "from skimage.morphology import closing, square\n",
    "def clear_images(images):\n",
    "    images_cleared = list()\n",
    "    for img in images:\n",
    "        thresh = threshold_otsu(img)\n",
    "        bw = closing(img > thresh, square(3))\n",
    "        cleared = clear_border(bw)\n",
    "        images_cleared.append(cleared)\n",
    "    return images_cleared\n",
    "\n",
    "def rotate_images(images):\n",
    "    images_rotated = list()\n",
    "    for img in images:\n",
    "        angle = get_angle_to_rotate_image(img)\n",
    "        img = rotate(img, angle).astype(np.uint8)\n",
    "        images_rotated.append(img)\n",
    "    return images_rotated\n",
    "\n",
    "def resize_images(images):  \n",
    "    max_height, max_width = images[0].shape\n",
    "    for image in images:\n",
    "        if image.shape[0] > max_height:\n",
    "            max_height = image.shape[0]\n",
    "        if image.shape[1] > max_width:\n",
    "            max_width = image.shape[1]\n",
    "#     shape = (longest_height, longest_width)\n",
    "#     images_resized = [(resize(img, shape)*255).astype(np.uint8) for img in images]\n",
    "    \n",
    "    images_resized = list()\n",
    "    for image in images:\n",
    "        scale = max_width/image.shape[1]\n",
    "        new_shape = (int(image.shape[0]*scale), int(image.shape[1]*scale))\n",
    "        resized_image = (resize(image, new_shape)*255).astype(np.uint8)\n",
    "        images_resized.append(resized_image)\n",
    "    \n",
    "    return images_resized\n",
    "\n",
    "def cut_images_sides(images):\n",
    "    images_rect = list()\n",
    "    images_cut = list()\n",
    "    for img in images:\n",
    "#         thresh = threshold_otsu(img)\n",
    "#         bw = closing(img > thresh, square(3))\n",
    "#         img = clear_border(bw)\n",
    "        \n",
    "        label_img, num = label(img, connectivity=2, return_num=True, background=0)\n",
    "        region_props = regionprops(label_img)\n",
    "#         print(num)\n",
    "#         print(region_props[0].bbox)\n",
    "        biggest_region = region_props[0]\n",
    "        for region in region_props:\n",
    "            if region.area > biggest_region.area:\n",
    "                biggest_region = region\n",
    "\n",
    "#         x,y = rectangle_perimeter((1,biggest_region.bbox[1]), (img.shape[0]-2,biggest_region.bbox[3]))\n",
    "#         x,y = rectangle_perimeter((biggest_region.bbox[0], biggest_region.bbox[1]), (biggest_region.bbox[2], biggest_region.bbox[3]))\n",
    "#         img = color.grey2rgb(img)\n",
    "#         img[x,y] = [255,0,0]\n",
    "#         images_rect.append(img)\n",
    "#         images_cut.append(img[:,biggest_region.bbox[1]:biggest_region.bbox[3]+1])\n",
    "        images_cut.append(img[biggest_region.bbox[0]:biggest_region.bbox[2],biggest_region.bbox[1]:biggest_region.bbox[3]+1])\n",
    "\n",
    "        \n",
    "    return images_cut"
   ]
  },
  {
   "cell_type": "code",
   "execution_count": 418,
   "metadata": {},
   "outputs": [],
   "source": [
    "# wersja używa najdłuższej linii w figurze jako podstawy\n",
    "def rotate_scale_and_cut_v1(images_paths):\n",
    "    images = [io.imread(path) for path in images_paths]\n",
    "    images = rotate_images(images)\n",
    "    images = cut_images_sides(images)\n",
    "    \n",
    "    images = resize_images(images)\n",
    "#     print(\"po rot: \", images[5][70])\n",
    "    return images\n",
    "\n",
    "# wersja szuka linii, które mają kąt prosty jako podstawa, chyba mniejsze zaufanie mam do tego\n",
    "def rotate_and_scale_v2(images_paths):\n",
    "    images_rotated = list()\n",
    "    for image_path in images_paths:\n",
    "        img = io.imread(image_path)\n",
    "        base_line = get_base_line(img)\n",
    "        angle = get_angle_of_line(base_line)\n",
    "        img = rotate(img, angle)\n",
    "        images_rotated.append(img)\n",
    "        \n",
    "    shape = images_rotated[0].shape\n",
    "    images_resized = [resize(img, shape) for img in images_rotated]\n",
    "    return images_resized"
   ]
  },
  {
   "cell_type": "code",
   "execution_count": 435,
   "metadata": {},
   "outputs": [
    {
     "data": {
      "image/png": "[encoded data removed]",
      "text/plain": [
       "<Figure size 432x288 with 20 Axes>"
      ]
     },
     "metadata": {
      "needs_background": "light"
     },
     "output_type": "display_data"
    }
   ],
   "source": [
    "n_of_cases = 5\n",
    "path = os.path.join('D:\\Dokumenty\\Projekty\\PIRO/project1/proj1_daneA\\set1', '')\n",
    "images_paths = glob.glob(os.path.join(path, '*.png'))\n",
    "\n",
    "images = rotate_scale_and_cut_v1(images_paths)\n",
    "images = [img*255 for img in images]\n",
    "images = [closing(opening(img, disk(10)), disk(10)) for img in images]\n",
    "fig = plt.figure()\n",
    "columns = 5\n",
    "rows = (len(images_paths)/columns)+1\n",
    "for i, img in enumerate(images):\n",
    "    fig.add_subplot(rows, columns, i+1)\n",
    "    plt.imshow(img)\n"
   ]
  },
  {
   "cell_type": "code",
   "execution_count": 441,
   "metadata": {},
   "outputs": [
    {
     "name": "stdout",
     "output_type": "stream",
     "text": [
      "(193, 294)\n"
     ]
    },
    {
     "data": {
      "text/plain": [
       "<matplotlib.image.AxesImage at 0x202cfb1ac10>"
      ]
     },
     "execution_count": 441,
     "metadata": {},
     "output_type": "execute_result"
    },
    {
     "data": {
      "image/png": "[encoded data removed]",
      "text/plain": [
       "<Figure size 432x288 with 1 Axes>"
      ]
     },
     "metadata": {
      "needs_background": "light"
     },
     "output_type": "display_data"
    }
   ],
   "source": [
    "print(images[5].shape)\n",
    "io.imshow(images[5])"
   ]
  },
  {
   "cell_type": "code",
   "execution_count": 437,
   "metadata": {},
   "outputs": [
    {
     "name": "stdout",
     "output_type": "stream",
     "text": [
      "(200, 294)\n"
     ]
    },
    {
     "data": {
      "text/plain": [
       "<matplotlib.image.AxesImage at 0x202d0710850>"
      ]
     },
     "execution_count": 437,
     "metadata": {},
     "output_type": "execute_result"
    },
    {
     "data": {
      "image/png": "[encoded data removed]",
      "text/plain": [
       "<Figure size 432x288 with 1 Axes>"
      ]
     },
     "metadata": {
      "needs_background": "light"
     },
     "output_type": "display_data"
    }
   ],
   "source": [
    "print(images[10].shape)\n",
    "io.imshow(images[10])"
   ]
  },
  {
   "cell_type": "code",
   "execution_count": null,
   "metadata": {},
   "outputs": [],
   "source": [
    "images = [io.imread(path) for path in images_paths]\n",
    "imgs = cut_images_sides(images)\n",
    "fig = plt.figure()\n",
    "columns = 5\n",
    "rows = (len(images_paths)/columns)+1\n",
    "for i, img in enumerate(imgs):\n",
    "    fig.add_subplot(rows, columns, i+1)\n",
    "    plt.imshow(img)\n",
    "    \n"
   ]
  },
  {
   "cell_type": "code",
   "execution_count": 59,
   "metadata": {},
   "outputs": [
    {
     "data": {
      "text/plain": [
       "<matplotlib.image.AxesImage at 0x202c27e6dc0>"
      ]
     },
     "execution_count": 59,
     "metadata": {},
     "output_type": "execute_result"
    },
    {
     "data": {
      "image/png": "[encoded data removed]",
      "text/plain": [
       "<Figure size 432x288 with 1 Axes>"
      ]
     },
     "metadata": {
      "needs_background": "light"
     },
     "output_type": "display_data"
    }
   ],
   "source": [
    "img = io.imread(images_paths[0])\n",
    "contours = find_contours(img, level=3)\n",
    "img = color.grey2rgb(img)\n",
    "for n, contour in enumerate(contours):\n",
    "    appr_pol = approximate_polygon(contour, tolerance=2)\n",
    "    for c in appr_pol:\n",
    "        x,y = circle_perimeter(int(c[0]),int(c[1]), 3)\n",
    "        img[x,y] = [255,0,0]\n",
    "        \n",
    "io.imshow(img)"
   ]
  },
  {
   "cell_type": "code",
   "execution_count": null,
   "metadata": {},
   "outputs": [],
   "source": [
    "# skalowanie według najdłuzszej linii"
   ]
  },
  {
   "cell_type": "code",
   "execution_count": 320,
   "metadata": {},
   "outputs": [
    {
     "data": {
      "image/png": "[encoded data removed]",
      "text/plain": [
       "<Figure size 1080x360 with 3 Axes>"
      ]
     },
     "metadata": {
      "needs_background": "light"
     },
     "output_type": "display_data"
    }
   ],
   "source": [
    "import numpy as np\n",
    "\n",
    "from skimage.morphology import closing, opening\n",
    "from skimage.transform import hough_line, hough_line_peaks\n",
    "from skimage.feature import canny\n",
    "from skimage import data\n",
    "\n",
    "import matplotlib.pyplot as plt\n",
    "from matplotlib import cm\n",
    "\n",
    "\n",
    "# Line finding using the Probabilistic Hough Transform\n",
    "image = io.imread(images_paths[11])\n",
    "thresh = threshold_otsu(image)\n",
    "image = image > thresh\n",
    "\n",
    "# image = closing(image, square(5))\n",
    "# image = opening(image, square(5))\n",
    "\n",
    "edges = canny(image, sigma=1, low_threshold=False, high_threshold=True)\n",
    "min_length = cleared.shape[0] if cleared.shape[0] >= cleared.shape[1] else cleared.shape[1]\n",
    "lines = probabilistic_hough_line(edges, threshold=10, line_length=int(min_length/2),\n",
    "                                 line_gap=5)\n",
    "\n",
    "# Generating figure 2\n",
    "fig, axes = plt.subplots(1, 3, figsize=(15, 5), sharex=True, sharey=True)\n",
    "ax = axes.ravel()\n",
    "\n",
    "ax[0].imshow(image, cmap=cm.gray)\n",
    "ax[0].set_title('Input image')\n",
    "\n",
    "ax[1].imshow(edges, cmap=cm.gray)\n",
    "ax[1].set_title('Canny edges')\n",
    "\n",
    "ax[2].imshow(edges * 0)\n",
    "for line in lines:\n",
    "    p0, p1 = line\n",
    "    ax[2].plot((p0[0], p1[0]), (p0[1], p1[1]))\n",
    "ax[2].set_xlim((0, image.shape[1]))\n",
    "ax[2].set_ylim((image.shape[0], 0))\n",
    "ax[2].set_title('Probabilistic Hough')\n",
    "\n",
    "for a in ax:\n",
    "    a.set_axis_off()\n",
    "\n",
    "plt.tight_layout()\n",
    "plt.show()"
   ]
  },
  {
   "cell_type": "code",
   "execution_count": null,
   "metadata": {},
   "outputs": [],
   "source": []
  },
  {
   "cell_type": "code",
   "execution_count": null,
   "metadata": {},
   "outputs": [],
   "source": []
  },
  {
   "cell_type": "code",
   "execution_count": null,
   "metadata": {},
   "outputs": [],
   "source": []
  }
 ],
 "metadata": {
  "kernelspec": {
   "display_name": "Python 3",
   "language": "python",
   "name": "python3"
  },
  "language_info": {
   "codemirror_mode": {
    "name": "ipython",
    "version": 3
   },
   "file_extension": ".py",
   "mimetype": "text/x-python",
   "name": "python",
   "nbconvert_exporter": "python",
   "pygments_lexer": "ipython3",
   "version": "3.8.2"
  }
 },
 "nbformat": 4,
 "nbformat_minor": 4
}
