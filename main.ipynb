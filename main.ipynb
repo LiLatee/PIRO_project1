{
 "cells": [
  {
   "cell_type": "code",
   "execution_count": 13,
   "metadata": {},
   "outputs": [],
   "source": [
    "import sys\n",
    "import os\n",
    "import glob\n",
    "from skimage import io\n",
    "from matplotlib import pyplot as plt\n",
    "from skimage.transform import resize, rotate\n",
    "from skimage.measure import find_contours, approximate_polygon, regionprops, label\n",
    "from skimage.color import label2rgb\n",
    "from skimage.draw import circle_perimeter, rectangle_perimeter\n",
    "from skimage.util import invert\n",
    "from skimage import color"
   ]
  },
  {
   "cell_type": "code",
   "execution_count": 14,
   "metadata": {},
   "outputs": [],
   "source": [
    "n_of_cases = 5\n",
    "path = os.path.join('D:\\Dokumenty\\Projekty\\PIRO/project1/proj1_daneA\\set0', '')\n",
    "images_paths = glob.glob(os.path.join(path, '*.png'))\n",
    "\n",
    "# img = io.imread(images_paths[0])\n",
    "# # shape = img.shape\n",
    "# # for image_path in images_paths:\n",
    "# #     img = io.imread(image_path)\n",
    "# #     contours = find_contours(img, level=3)\n",
    "# #     n_of_angles = len(approximate_polygon(contours[0], tolerance=10))-1\n",
    "# #     print(n_of_angles)\n",
    "    \n",
    "# img  = io.imread(images_paths[0])\n",
    "# contours = find_contours(img, level=3)\n",
    "# img = color.grey2rgb(img)\n",
    "# appr_pol = approximate_polygon(contours[0], tolerance=10)\n",
    "# for c in appr_pol:\n",
    "#     x,y = circle_perimeter(int(c[0]),int(c[1]), 3)\n",
    "#     img[x,y] = [255,0,0]\n",
    "    \n",
    "# io.imshow(img)\n",
    "# plt.show()"
   ]
  },
  {
   "cell_type": "code",
   "execution_count": null,
   "metadata": {},
   "outputs": [],
   "source": [
    "# img  = io.imread(images_paths[5])\n",
    "# label_img = label(img, connectivity=2)\n",
    "\n",
    "# biggest_region = regionprops(label_img)[0]\n",
    "# for region in regionprops(label_img):\n",
    "#     if region.area > biggest_region.area:\n",
    "#         biggest_region = region\n",
    "# print(biggest_region.area)\n",
    "# print(biggest_region.bbox)\n",
    "# # contours = find_contours(img, level=3)\n",
    "# # img = color.grey2rgb(img)\n",
    "# # appr_pol = approximate_polygon(contours[0], tolerance=10)\n",
    "# # for c in appr_pol:\n",
    "# #     x,y = circle_perimeter(int(c[0]),int(c[1]), 3)\n",
    "# #     img[x,y] = [255,0,0]\n",
    "    \n",
    "# x,y = rectangle_perimeter((biggest_region.bbox[0],biggest_region.bbox[1]), (biggest_region.bbox[2],biggest_region.bbox[3]))\n",
    "# img = color.grey2rgb(img)\n",
    "# img[x,y] = [255,0,0]\n",
    "# io.imshow(rotate(img, -171.7241071729248))\n",
    "# # plt.show()"
   ]
  },
  {
   "cell_type": "code",
   "execution_count": 16,
   "metadata": {},
   "outputs": [],
   "source": [
    "import math \n",
    "import numpy as np\n",
    "def get_line_lenght(point1, point2):\n",
    "    return math.pow((point1[0]-point2[0])**2 + (point1[1]-point2[1])**2 , 0.5)\n",
    "def get_angle_of_line(line):\n",
    "    (point1, point2) = line\n",
    "    return math.atan2(point2[1] - point1[1], point2[0] - point1[0]) * 180 / np.pi"
   ]
  },
  {
   "cell_type": "code",
   "execution_count": 17,
   "metadata": {},
   "outputs": [],
   "source": [
    "from skimage.transform import probabilistic_hough_line\n",
    "from skimage.feature import canny\n",
    "\n",
    "def get_angle_to_rotate_image(image):\n",
    "    edges = canny(image, 2, 1, 25)\n",
    "    lines = probabilistic_hough_line(edges, threshold=1, line_length=5, line_gap=3)\n",
    "    longest_line = (lines[0],  get_line_lenght(lines[0][0], lines[0][1]))\n",
    "    for line in lines:\n",
    "        temp_lenght = get_line_lenght(line[0], line[1])\n",
    "        if temp_lenght > longest_line[1]:\n",
    "            longest_line = (line, temp_lenght)\n",
    "\n",
    "    angle = get_angle_of_line(longest_line[0])\n",
    "    return angle"
   ]
  },
  {
   "cell_type": "code",
   "execution_count": null,
   "metadata": {},
   "outputs": [],
   "source": [
    "images = list()\n",
    "for image_path in images_paths:\n",
    "    img = io.imread(image_path)\n",
    "    angle = get_angle_to_rotate_image(img)\n",
    "    img = rotate(img, angle)\n",
    "    images.append(img)"
   ]
  },
  {
   "cell_type": "code",
   "execution_count": null,
   "metadata": {},
   "outputs": [],
   "source": [
    "io.imshow(images[5])"
   ]
  },
  {
   "cell_type": "code",
   "execution_count": null,
   "metadata": {},
   "outputs": [],
   "source": [
    "images_cut = list()\n",
    "\n",
    "for img in images:\n",
    "    label_img = label(img, connectivity=1)\n",
    "\n",
    "    biggest_region = regionprops(label_img)[0]\n",
    "    for region in regionprops(label_img):\n",
    "        if region.area > biggest_region.area:\n",
    "            biggest_region = region\n",
    "\n",
    "#     x,y = rectangle_perimeter((1,biggest_region.bbox[1]), (img.shape[0]-2,biggest_region.bbox[3]))\n",
    "#     img = color.grey2rgb(img)\n",
    "#     img[x,y] = [255,0,0]\n",
    "#     images_rect.append(img)\n",
    "    images_cut.append(img[:,biggest_region.bbox[1]:biggest_region.bbox[3]+1])\n",
    "    \n",
    "\n",
    "io.imshow(images_cut[0])"
   ]
  },
  {
   "cell_type": "code",
   "execution_count": null,
   "metadata": {},
   "outputs": [],
   "source": [
    "shape = images_cut[0].shape\n",
    "images_resized = list()\n",
    "images_resized = [resize(img, shape) for img in images_cut]\n",
    "\n",
    "io.imshow(images_resized[5])"
   ]
  },
  {
   "cell_type": "code",
   "execution_count": null,
   "metadata": {},
   "outputs": [],
   "source": [
    "def compare_2_numbers_with_range(n1, n2, range=3):\n",
    "    difference = abs(n1-n2)\n",
    "    return difference <= range\n",
    "compare_2_numbers_with_range(5.40, 3.10, 3)"
   ]
  },
  {
   "cell_type": "code",
   "execution_count": 148,
   "metadata": {},
   "outputs": [
    {
     "data": {
      "text/plain": [
       "False"
      ]
     },
     "execution_count": 148,
     "metadata": {},
     "output_type": "execute_result"
    }
   ],
   "source": [
    "def compare_2_points_with_range(point1, point2, range=3):\n",
    "    x1, y1 = point1\n",
    "    x2, y2 = point2\n",
    "    return compare_2_numbers_with_range(x1, x2, range) and compare_2_numbers_with_range(y1, y2, range)\n",
    "compare_2_points_with_range((10,20), (8,27), 5)"
   ]
  },
  {
   "cell_type": "code",
   "execution_count": 212,
   "metadata": {},
   "outputs": [
    {
     "name": "stdout",
     "output_type": "stream",
     "text": [
      "((135, 167), (183, 128)) ((135, 167), (183, 128))\n",
      "0.0\n",
      "((135, 167), (183, 128)) ((137, 166), (183, 129))\n",
      "0.28247484947110024\n",
      "((135, 167), (183, 128)) ((183, 124), (88, 7))\n",
      "89.981559131788\n",
      "((135, 167), (183, 128)) ((183, 125), (86, 6))\n",
      "90.09051458427928\n"
     ]
    },
    {
     "data": {
      "text/plain": [
       "((135, 167), (183, 128))"
      ]
     },
     "execution_count": 212,
     "metadata": {},
     "output_type": "execute_result"
    }
   ],
   "source": [
    "def check_if_perpendicular_lines(line1, line2):\n",
    "    point11, point12 = line1\n",
    "    point21, point22 = line2\n",
    "    if compare_2_points_with_range(point11, point21, 10) or compare_2_points_with_range(point11, point22, 10) or compare_2_points_with_range(point12, point21, 10):     \n",
    "        angle_between_lines = abs(get_angle_of_line(line1)-get_angle_of_line(line2))\n",
    "        print(line1, line2)\n",
    "        print(angle_between_lines)\n",
    "        if compare_2_numbers_with_range(angle_between_lines, 90, 5):\n",
    "            return True\n",
    "    \n",
    "    return False\n",
    "\n",
    "def get_base_line(img):\n",
    "    edges = canny(img, 2, 1, 25)\n",
    "    lines = probabilistic_hough_line(edges, threshold=1, line_length=int((img.shape[0]+img.shape[1])/10), line_gap=3)\n",
    "    \n",
    "    for line1 in lines:\n",
    "        counter = 0\n",
    "        for line2 in lines:\n",
    "            if check_if_perpendicular_lines(line1, line2):\n",
    "                counter += 1\n",
    "        if counter >= 2:\n",
    "            return line1\n",
    "    \n",
    "    return None\n",
    "get_base_line(io.imread(images_paths[4]))"
   ]
  },
  {
   "cell_type": "code",
   "execution_count": 260,
   "metadata": {},
   "outputs": [
    {
     "name": "stdout",
     "output_type": "stream",
     "text": [
      "[((183, 124), (89, 8)), ((183, 125), (88, 7)), ((183, 129), (137, 166)), ((182, 124), (86, 6)), ((183, 128), (135, 167)), ((52, 32), (83, 7)), ((135, 166), (108, 182)), ((51, 34), (85, 6)), ((45, 43), (26, 82)), ((101, 179), (116, 150)), ((68, 99), (58, 129)), ((97, 128), (60, 137))]\n"
     ]
    },
    {
     "data": {
      "text/plain": [
       "<matplotlib.image.AxesImage at 0x2bd473c16a0>"
      ]
     },
     "execution_count": 260,
     "metadata": {},
     "output_type": "execute_result"
    },
    {
     "data": {
      "image/png": "[encoded data removed]",
      "text/plain": [
       "<Figure size 432x288 with 1 Axes>"
      ]
     },
     "metadata": {
      "needs_background": "light"
     },
     "output_type": "display_data"
    }
   ],
   "source": [
    "# kąty proste\n",
    "from skimage.morphology import erosion, dilation, opening, closing, square, disk, star, rectangle\n",
    "img = io.imread(images_paths[4])\n",
    "img = dilation(img)\n",
    "img = erosion(img)\n",
    "contours = find_contours(img, level=3)\n",
    "edges = canny(img, 2, 1, 25)\n",
    "lines = probabilistic_hough_line(edges, threshold=10, line_length=int((img.shape[0]+img.shape[1])/15), line_gap=5, theta=np.array(range(60,120), dtype=np.double))\n",
    "\n",
    "\n",
    "\n",
    "img = color.grey2rgb(img)\n",
    "for n, contour in enumerate(contours):\n",
    "    appr_pol = approximate_polygon(contour, tolerance=100)\n",
    "    for c in appr_pol:\n",
    "        x,y = circle_perimeter(int(c[0]),int(c[1]), 3)\n",
    "        img[x,y] = [255,0,0]\n",
    "\n",
    "# appr_pol = np.array([(point[1], point[0]) for point in appr_pol])\n",
    "# print(appr_pol)\n",
    "print(lines)\n",
    "io.imshow(img)\n"
   ]
  },
  {
   "cell_type": "code",
   "execution_count": 261,
   "metadata": {},
   "outputs": [
    {
     "data": {
      "image/png": "[encoded data removed]",
      "text/plain": [
       "<Figure size 1080x360 with 3 Axes>"
      ]
     },
     "metadata": {
      "needs_background": "light"
     },
     "output_type": "display_data"
    }
   ],
   "source": [
    "# Generating figure 2\n",
    "import numpy as np\n",
    "\n",
    "from skimage.transform import hough_line, hough_line_peaks\n",
    "from skimage.feature import canny\n",
    "from skimage import data\n",
    "\n",
    "import matplotlib.pyplot as plt\n",
    "from matplotlib import cm\n",
    "image = img\n",
    "fig, axes = plt.subplots(1, 3, figsize=(15, 5), sharex=True, sharey=True)\n",
    "ax = axes.ravel()\n",
    "\n",
    "ax[0].imshow(image, cmap=cm.gray)\n",
    "ax[0].set_title('Input image')\n",
    "\n",
    "ax[1].imshow(edges, cmap=cm.gray)\n",
    "ax[1].set_title('Canny edges')\n",
    "\n",
    "ax[2].imshow(edges * 0)\n",
    "for line in lines:\n",
    "    p0, p1 = line\n",
    "    ax[2].plot((p0[0], p1[0]), (p0[1], p1[1]))\n",
    "ax[2].set_xlim((0, image.shape[1]))\n",
    "ax[2].set_ylim((image.shape[0], 0))\n",
    "ax[2].set_title('Probabilistic Hough')\n",
    "\n",
    "for a in ax:\n",
    "    a.set_axis_off()\n",
    "\n",
    "plt.tight_layout()\n",
    "plt.show()"
   ]
  },
  {
   "cell_type": "code",
   "execution_count": 96,
   "metadata": {},
   "outputs": [],
   "source": [
    "# wersja używa najdłuższej linii w figurze jako podstawy\n",
    "def rotate_and_scale_v1(images_paths):\n",
    "    images = list()\n",
    "    for image_path in images_paths:\n",
    "        img = io.imread(image_path)\n",
    "        angle = get_angle_to_rotate_image(img)\n",
    "        img = rotate(img, angle)\n",
    "        images.append(img)\n",
    "    return images\n",
    "\n",
    "# wersja szuka linii, które mają kąt prosty jako podstawa, chyba mniejsze zaufanie mam do tego\n",
    "def rotate_and_scale_v2(images_paths):\n",
    "    images = list()\n",
    "    for image_path in images_paths:\n",
    "        print(image_path)\n",
    "        img = io.imread(image_path)\n",
    "        base_line = get_base_line(img)\n",
    "        angle = get_angle_of_line(base_line)\n",
    "        img = rotate(img, angle)\n",
    "        images.append(img)\n",
    "    return images"
   ]
  },
  {
   "cell_type": "code",
   "execution_count": 97,
   "metadata": {},
   "outputs": [
    {
     "name": "stdout",
     "output_type": "stream",
     "text": [
      "D:\\Dokumenty\\Projekty\\PIRO/project1/proj1_daneA\\set0\\0.png\n",
      "((45, 199), (244, 150)) ((45, 199), (244, 150))\n",
      "((45, 199), (244, 150)) ((245, 146), (211, 8))\n",
      "((45, 199), (244, 150)) ((213, 157), (245, 149))\n",
      "((45, 199), (244, 150)) ((41, 198), (17, 103))\n",
      "((45, 199), (244, 150)) ((187, 89), (208, 15))\n",
      "((45, 199), (244, 150)) ((205, 24), (209, 8))\n",
      "((45, 199), (244, 150)) ((19, 112), (15, 95))\n",
      "((45, 199), (244, 150)) ((189, 84), (193, 70))\n",
      "((45, 199), (244, 150)) ((27, 140), (21, 116))\n",
      "D:\\Dokumenty\\Projekty\\PIRO/project1/proj1_daneA\\set0\\1.png\n",
      "((293, 273), (11, 208)) ((293, 273), (11, 208))\n",
      "((293, 273), (11, 208)) ((295, 273), (10, 207))\n",
      "((293, 273), (11, 208)) ((9, 206), (53, 17))\n",
      "((293, 273), (11, 208)) ((9, 203), (51, 20))\n",
      "((293, 273), (11, 208)) ((296, 272), (322, 167))\n",
      "((293, 273), (11, 208)) ((309, 217), (321, 166))\n",
      "((293, 273), (11, 208)) ((297, 272), (306, 234))\n",
      "((293, 273), (11, 208)) ((116, 108), (155, 79))\n",
      "D:\\Dokumenty\\Projekty\\PIRO/project1/proj1_daneA\\set0\\2.png\n",
      "((139, 184), (7, 98)) ((139, 184), (7, 98))\n",
      "((139, 184), (7, 98)) ((136, 183), (7, 99))\n",
      "((139, 184), (7, 98)) ((6, 96), (58, 16))\n",
      "((139, 184), (7, 98)) ((33, 55), (60, 14))\n",
      "((139, 184), (7, 98)) ((18, 78), (36, 51))\n",
      "((139, 184), (7, 98)) ((153, 107), (154, 83))\n",
      "((139, 184), (7, 98)) ((141, 184), (168, 143))\n",
      "((139, 184), (7, 98)) ((6, 97), (21, 74))\n",
      "((139, 184), (7, 98)) ((152, 120), (152, 108))\n",
      "D:\\Dokumenty\\Projekty\\PIRO/project1/proj1_daneA\\set0\\3.png\n",
      "((5, 62), (87, 5)) ((5, 62), (87, 5))\n",
      "((5, 62), (87, 5)) ((37, 113), (5, 65))\n",
      "((5, 62), (87, 5)) ((6, 61), (86, 5))\n",
      "((5, 62), (87, 5)) ((131, 61), (90, 5))\n",
      "((5, 62), (87, 5)) ((37, 114), (26, 98))\n",
      "((5, 62), (87, 5)) ((112, 34), (91, 5))\n",
      "((5, 62), (87, 5)) ((126, 55), (110, 33))\n",
      "((5, 62), (87, 5)) ((18, 86), (5, 67))\n",
      "((5, 62), (87, 5)) ((130, 63), (106, 46))\n",
      "((5, 62), (87, 5)) ((129, 63), (104, 45))\n",
      "D:\\Dokumenty\\Projekty\\PIRO/project1/proj1_daneA\\set0\\4.png\n",
      "((183, 124), (88, 7)) ((183, 124), (88, 7))\n",
      "((183, 124), (88, 7)) ((183, 125), (87, 7))\n",
      "((183, 124), (88, 7)) ((135, 167), (183, 129))\n",
      "((183, 124), (88, 7)) ((139, 165), (165, 144))\n",
      "((183, 124), (88, 7)) ((45, 45), (53, 31))\n",
      "((183, 124), (88, 7)) ((25, 81), (49, 37))\n",
      "((183, 124), (88, 7)) ((52, 32), (85, 6))\n",
      "((183, 124), (88, 7)) ((56, 30), (86, 6))\n",
      "((183, 125), (87, 7)) ((183, 124), (88, 7))\n",
      "((183, 125), (87, 7)) ((183, 125), (87, 7))\n",
      "((183, 125), (87, 7)) ((135, 167), (183, 129))\n",
      "((183, 125), (87, 7)) ((139, 165), (165, 144))\n",
      "((183, 125), (87, 7)) ((45, 45), (53, 31))\n",
      "((183, 125), (87, 7)) ((25, 81), (49, 37))\n",
      "((183, 125), (87, 7)) ((52, 32), (85, 6))\n",
      "((183, 125), (87, 7)) ((56, 30), (86, 6))\n",
      "((135, 167), (183, 129)) ((183, 124), (88, 7))\n",
      "((135, 167), (183, 129)) ((183, 125), (87, 7))\n",
      "((135, 167), (183, 129)) ((135, 167), (183, 129))\n",
      "((135, 167), (183, 129)) ((139, 165), (165, 144))\n",
      "((135, 167), (183, 129)) ((45, 45), (53, 31))\n",
      "((135, 167), (183, 129)) ((25, 81), (49, 37))\n",
      "((135, 167), (183, 129)) ((52, 32), (85, 6))\n",
      "((135, 167), (183, 129)) ((56, 30), (86, 6))\n",
      "D:\\Dokumenty\\Projekty\\PIRO/project1/proj1_daneA\\set0\\5.png\n",
      "((126, 19), (16, 3)) ((126, 19), (16, 3))\n",
      "((126, 19), (16, 3)) ((96, 87), (122, 53))\n",
      "((126, 19), (16, 3)) ((94, 89), (122, 52))\n",
      "((126, 19), (16, 3)) ((8, 43), (13, 5))\n",
      "((126, 19), (16, 3)) ((123, 50), (126, 22))\n",
      "((126, 19), (16, 3)) ((17, 73), (30, 52))\n",
      "((126, 19), (16, 3)) ((6, 57), (7, 44))\n",
      "((126, 19), (16, 3)) ((53, 75), (45, 55))\n",
      "((126, 19), (16, 3)) ((56, 83), (52, 73))\n",
      "((126, 19), (16, 3)) ((18, 73), (23, 64))\n",
      "((96, 87), (122, 53)) ((126, 19), (16, 3))\n",
      "((96, 87), (122, 53)) ((96, 87), (122, 53))\n",
      "((96, 87), (122, 53)) ((94, 89), (122, 52))\n",
      "((96, 87), (122, 53)) ((8, 43), (13, 5))\n",
      "((96, 87), (122, 53)) ((123, 50), (126, 22))\n",
      "((96, 87), (122, 53)) ((17, 73), (30, 52))\n",
      "((96, 87), (122, 53)) ((6, 57), (7, 44))\n",
      "((96, 87), (122, 53)) ((53, 75), (45, 55))\n",
      "((96, 87), (122, 53)) ((56, 83), (52, 73))\n",
      "((96, 87), (122, 53)) ((18, 73), (23, 64))\n",
      "((94, 89), (122, 52)) ((126, 19), (16, 3))\n",
      "((94, 89), (122, 52)) ((96, 87), (122, 53))\n",
      "((94, 89), (122, 52)) ((94, 89), (122, 52))\n",
      "((94, 89), (122, 52)) ((8, 43), (13, 5))\n",
      "((94, 89), (122, 52)) ((123, 50), (126, 22))\n",
      "((94, 89), (122, 52)) ((17, 73), (30, 52))\n",
      "((94, 89), (122, 52)) ((6, 57), (7, 44))\n",
      "((94, 89), (122, 52)) ((53, 75), (45, 55))\n",
      "((94, 89), (122, 52)) ((56, 83), (52, 73))\n",
      "((94, 89), (122, 52)) ((18, 73), (23, 64))\n",
      "((8, 43), (13, 5)) ((126, 19), (16, 3))\n",
      "((8, 43), (13, 5)) ((96, 87), (122, 53))\n",
      "((8, 43), (13, 5)) ((94, 89), (122, 52))\n",
      "((8, 43), (13, 5)) ((8, 43), (13, 5))\n",
      "((8, 43), (13, 5)) ((123, 50), (126, 22))\n",
      "((8, 43), (13, 5)) ((17, 73), (30, 52))\n",
      "((8, 43), (13, 5)) ((6, 57), (7, 44))\n",
      "((8, 43), (13, 5)) ((53, 75), (45, 55))\n",
      "((8, 43), (13, 5)) ((56, 83), (52, 73))\n",
      "((8, 43), (13, 5)) ((18, 73), (23, 64))\n",
      "((123, 50), (126, 22)) ((126, 19), (16, 3))\n",
      "((123, 50), (126, 22)) ((96, 87), (122, 53))\n",
      "((123, 50), (126, 22)) ((94, 89), (122, 52))\n",
      "((123, 50), (126, 22)) ((8, 43), (13, 5))\n",
      "((123, 50), (126, 22)) ((123, 50), (126, 22))\n",
      "((123, 50), (126, 22)) ((17, 73), (30, 52))\n",
      "((123, 50), (126, 22)) ((6, 57), (7, 44))\n",
      "((123, 50), (126, 22)) ((53, 75), (45, 55))\n",
      "((123, 50), (126, 22)) ((56, 83), (52, 73))\n",
      "((123, 50), (126, 22)) ((18, 73), (23, 64))\n",
      "((17, 73), (30, 52)) ((126, 19), (16, 3))\n",
      "((17, 73), (30, 52)) ((96, 87), (122, 53))\n",
      "((17, 73), (30, 52)) ((94, 89), (122, 52))\n",
      "((17, 73), (30, 52)) ((8, 43), (13, 5))\n",
      "((17, 73), (30, 52)) ((123, 50), (126, 22))\n",
      "((17, 73), (30, 52)) ((17, 73), (30, 52))\n",
      "((17, 73), (30, 52)) ((6, 57), (7, 44))\n",
      "((17, 73), (30, 52)) ((53, 75), (45, 55))\n",
      "((17, 73), (30, 52)) ((56, 83), (52, 73))\n",
      "((17, 73), (30, 52)) ((18, 73), (23, 64))\n",
      "((6, 57), (7, 44)) ((126, 19), (16, 3))\n",
      "((6, 57), (7, 44)) ((96, 87), (122, 53))\n",
      "((6, 57), (7, 44)) ((94, 89), (122, 52))\n",
      "((6, 57), (7, 44)) ((8, 43), (13, 5))\n",
      "((6, 57), (7, 44)) ((123, 50), (126, 22))\n",
      "((6, 57), (7, 44)) ((17, 73), (30, 52))\n",
      "((6, 57), (7, 44)) ((6, 57), (7, 44))\n",
      "((6, 57), (7, 44)) ((53, 75), (45, 55))\n",
      "((6, 57), (7, 44)) ((56, 83), (52, 73))\n",
      "((6, 57), (7, 44)) ((18, 73), (23, 64))\n",
      "((53, 75), (45, 55)) ((126, 19), (16, 3))\n",
      "((53, 75), (45, 55)) ((96, 87), (122, 53))\n",
      "((53, 75), (45, 55)) ((94, 89), (122, 52))\n",
      "((53, 75), (45, 55)) ((8, 43), (13, 5))\n",
      "((53, 75), (45, 55)) ((123, 50), (126, 22))\n",
      "((53, 75), (45, 55)) ((17, 73), (30, 52))\n",
      "((53, 75), (45, 55)) ((6, 57), (7, 44))\n",
      "((53, 75), (45, 55)) ((53, 75), (45, 55))\n",
      "((53, 75), (45, 55)) ((56, 83), (52, 73))\n",
      "((53, 75), (45, 55)) ((18, 73), (23, 64))\n",
      "((56, 83), (52, 73)) ((126, 19), (16, 3))\n",
      "((56, 83), (52, 73)) ((96, 87), (122, 53))\n",
      "((56, 83), (52, 73)) ((94, 89), (122, 52))\n",
      "((56, 83), (52, 73)) ((8, 43), (13, 5))\n",
      "((56, 83), (52, 73)) ((123, 50), (126, 22))\n",
      "((56, 83), (52, 73)) ((17, 73), (30, 52))\n",
      "((56, 83), (52, 73)) ((6, 57), (7, 44))\n",
      "((56, 83), (52, 73)) ((53, 75), (45, 55))\n",
      "((56, 83), (52, 73)) ((56, 83), (52, 73))\n",
      "((56, 83), (52, 73)) ((18, 73), (23, 64))\n",
      "((18, 73), (23, 64)) ((126, 19), (16, 3))\n",
      "((18, 73), (23, 64)) ((96, 87), (122, 53))\n",
      "((18, 73), (23, 64)) ((94, 89), (122, 52))\n",
      "((18, 73), (23, 64)) ((8, 43), (13, 5))\n",
      "((18, 73), (23, 64)) ((123, 50), (126, 22))\n",
      "((18, 73), (23, 64)) ((17, 73), (30, 52))\n",
      "((18, 73), (23, 64)) ((6, 57), (7, 44))\n",
      "((18, 73), (23, 64)) ((53, 75), (45, 55))\n",
      "((18, 73), (23, 64)) ((56, 83), (52, 73))\n",
      "((18, 73), (23, 64)) ((18, 73), (23, 64))\n"
     ]
    },
    {
     "ename": "TypeError",
     "evalue": "cannot unpack non-iterable NoneType object",
     "output_type": "error",
     "traceback": [
      "\u001b[1;31m---------------------------------------------------------------------------\u001b[0m",
      "\u001b[1;31mTypeError\u001b[0m                                 Traceback (most recent call last)",
      "\u001b[1;32m<ipython-input-97-c20b60e2e36e>\u001b[0m in \u001b[0;36m<module>\u001b[1;34m\u001b[0m\n\u001b[1;32m----> 1\u001b[1;33m \u001b[0mimgs\u001b[0m \u001b[1;33m=\u001b[0m \u001b[0mrotate_and_scale_v2\u001b[0m\u001b[1;33m(\u001b[0m\u001b[0mimages_paths\u001b[0m\u001b[1;33m)\u001b[0m\u001b[1;33m\u001b[0m\u001b[1;33m\u001b[0m\u001b[0m\n\u001b[0m\u001b[0;32m      2\u001b[0m \u001b[0mio\u001b[0m\u001b[1;33m.\u001b[0m\u001b[0mimshow\u001b[0m\u001b[1;33m(\u001b[0m\u001b[0mimgs\u001b[0m\u001b[1;33m[\u001b[0m\u001b[1;36m4\u001b[0m\u001b[1;33m]\u001b[0m\u001b[1;33m)\u001b[0m\u001b[1;33m\u001b[0m\u001b[1;33m\u001b[0m\u001b[0m\n",
      "\u001b[1;32m<ipython-input-96-1c8a9d00c033>\u001b[0m in \u001b[0;36mrotate_and_scale_v2\u001b[1;34m(images_paths)\u001b[0m\n\u001b[0;32m     16\u001b[0m         \u001b[0mimg\u001b[0m \u001b[1;33m=\u001b[0m \u001b[0mio\u001b[0m\u001b[1;33m.\u001b[0m\u001b[0mimread\u001b[0m\u001b[1;33m(\u001b[0m\u001b[0mimage_path\u001b[0m\u001b[1;33m)\u001b[0m\u001b[1;33m\u001b[0m\u001b[1;33m\u001b[0m\u001b[0m\n\u001b[0;32m     17\u001b[0m         \u001b[0mbase_line\u001b[0m \u001b[1;33m=\u001b[0m \u001b[0mget_base_line\u001b[0m\u001b[1;33m(\u001b[0m\u001b[0mimg\u001b[0m\u001b[1;33m)\u001b[0m\u001b[1;33m\u001b[0m\u001b[1;33m\u001b[0m\u001b[0m\n\u001b[1;32m---> 18\u001b[1;33m         \u001b[0mangle\u001b[0m \u001b[1;33m=\u001b[0m \u001b[0mget_angle_of_line\u001b[0m\u001b[1;33m(\u001b[0m\u001b[0mbase_line\u001b[0m\u001b[1;33m)\u001b[0m\u001b[1;33m\u001b[0m\u001b[1;33m\u001b[0m\u001b[0m\n\u001b[0m\u001b[0;32m     19\u001b[0m         \u001b[0mimg\u001b[0m \u001b[1;33m=\u001b[0m \u001b[0mrotate\u001b[0m\u001b[1;33m(\u001b[0m\u001b[0mimg\u001b[0m\u001b[1;33m,\u001b[0m \u001b[0mangle\u001b[0m\u001b[1;33m)\u001b[0m\u001b[1;33m\u001b[0m\u001b[1;33m\u001b[0m\u001b[0m\n\u001b[0;32m     20\u001b[0m         \u001b[0mimages\u001b[0m\u001b[1;33m.\u001b[0m\u001b[0mappend\u001b[0m\u001b[1;33m(\u001b[0m\u001b[0mimg\u001b[0m\u001b[1;33m)\u001b[0m\u001b[1;33m\u001b[0m\u001b[1;33m\u001b[0m\u001b[0m\n",
      "\u001b[1;32m<ipython-input-16-a3be45569321>\u001b[0m in \u001b[0;36mget_angle_of_line\u001b[1;34m(line)\u001b[0m\n\u001b[0;32m      4\u001b[0m     \u001b[1;32mreturn\u001b[0m \u001b[0mmath\u001b[0m\u001b[1;33m.\u001b[0m\u001b[0mpow\u001b[0m\u001b[1;33m(\u001b[0m\u001b[1;33m(\u001b[0m\u001b[0mpoint1\u001b[0m\u001b[1;33m[\u001b[0m\u001b[1;36m0\u001b[0m\u001b[1;33m]\u001b[0m\u001b[1;33m-\u001b[0m\u001b[0mpoint2\u001b[0m\u001b[1;33m[\u001b[0m\u001b[1;36m0\u001b[0m\u001b[1;33m]\u001b[0m\u001b[1;33m)\u001b[0m\u001b[1;33m**\u001b[0m\u001b[1;36m2\u001b[0m \u001b[1;33m+\u001b[0m \u001b[1;33m(\u001b[0m\u001b[0mpoint1\u001b[0m\u001b[1;33m[\u001b[0m\u001b[1;36m1\u001b[0m\u001b[1;33m]\u001b[0m\u001b[1;33m-\u001b[0m\u001b[0mpoint2\u001b[0m\u001b[1;33m[\u001b[0m\u001b[1;36m1\u001b[0m\u001b[1;33m]\u001b[0m\u001b[1;33m)\u001b[0m\u001b[1;33m**\u001b[0m\u001b[1;36m2\u001b[0m \u001b[1;33m,\u001b[0m \u001b[1;36m0.5\u001b[0m\u001b[1;33m)\u001b[0m\u001b[1;33m\u001b[0m\u001b[1;33m\u001b[0m\u001b[0m\n\u001b[0;32m      5\u001b[0m \u001b[1;32mdef\u001b[0m \u001b[0mget_angle_of_line\u001b[0m\u001b[1;33m(\u001b[0m\u001b[0mline\u001b[0m\u001b[1;33m)\u001b[0m\u001b[1;33m:\u001b[0m\u001b[1;33m\u001b[0m\u001b[1;33m\u001b[0m\u001b[0m\n\u001b[1;32m----> 6\u001b[1;33m     \u001b[1;33m(\u001b[0m\u001b[0mpoint1\u001b[0m\u001b[1;33m,\u001b[0m \u001b[0mpoint2\u001b[0m\u001b[1;33m)\u001b[0m \u001b[1;33m=\u001b[0m \u001b[0mline\u001b[0m\u001b[1;33m\u001b[0m\u001b[1;33m\u001b[0m\u001b[0m\n\u001b[0m\u001b[0;32m      7\u001b[0m     \u001b[1;32mreturn\u001b[0m \u001b[0mmath\u001b[0m\u001b[1;33m.\u001b[0m\u001b[0matan2\u001b[0m\u001b[1;33m(\u001b[0m\u001b[0mpoint2\u001b[0m\u001b[1;33m[\u001b[0m\u001b[1;36m1\u001b[0m\u001b[1;33m]\u001b[0m \u001b[1;33m-\u001b[0m \u001b[0mpoint1\u001b[0m\u001b[1;33m[\u001b[0m\u001b[1;36m1\u001b[0m\u001b[1;33m]\u001b[0m\u001b[1;33m,\u001b[0m \u001b[0mpoint2\u001b[0m\u001b[1;33m[\u001b[0m\u001b[1;36m0\u001b[0m\u001b[1;33m]\u001b[0m \u001b[1;33m-\u001b[0m \u001b[0mpoint1\u001b[0m\u001b[1;33m[\u001b[0m\u001b[1;36m0\u001b[0m\u001b[1;33m]\u001b[0m\u001b[1;33m)\u001b[0m \u001b[1;33m*\u001b[0m \u001b[1;36m180\u001b[0m \u001b[1;33m/\u001b[0m \u001b[0mnp\u001b[0m\u001b[1;33m.\u001b[0m\u001b[0mpi\u001b[0m\u001b[1;33m\u001b[0m\u001b[1;33m\u001b[0m\u001b[0m\n",
      "\u001b[1;31mTypeError\u001b[0m: cannot unpack non-iterable NoneType object"
     ]
    }
   ],
   "source": [
    "imgs = rotate_and_scale_v2(images_paths)\n",
    "io.imshow(imgs[4])"
   ]
  },
  {
   "cell_type": "code",
   "execution_count": null,
   "metadata": {},
   "outputs": [],
   "source": []
  }
 ],
 "metadata": {
  "kernelspec": {
   "display_name": "Python 3",
   "language": "python",
   "name": "python3"
  },
  "language_info": {
   "codemirror_mode": {
    "name": "ipython",
    "version": 3
   },
   "file_extension": ".py",
   "mimetype": "text/x-python",
   "name": "python",
   "nbconvert_exporter": "python",
   "pygments_lexer": "ipython3",
   "version": "3.8.2"
  }
 },
 "nbformat": 4,
 "nbformat_minor": 4
}
