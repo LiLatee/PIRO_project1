{
 "cells": [
  {
   "cell_type": "code",
   "execution_count": 1,
   "metadata": {},
   "outputs": [],
   "source": [
    "import sys\n",
    "import os\n",
    "import glob\n",
    "from skimage import io\n",
    "from matplotlib import pyplot as plt\n",
    "from skimage.transform import resize, rotate\n",
    "from skimage.measure import find_contours, approximate_polygon, regionprops, label\n",
    "from skimage.color import label2rgb\n",
    "from skimage.draw import circle_perimeter, rectangle_perimeter\n",
    "from skimage.util import invert\n",
    "from skimage import color"
   ]
  },
  {
   "cell_type": "code",
   "execution_count": 248,
   "metadata": {},
   "outputs": [],
   "source": [
    "# do wersji v1\n",
    "import math \n",
    "import numpy as np\n",
    "def get_line_lenght(point1, point2):\n",
    "    return math.pow((point1[0]-point2[0])**2 + (point1[1]-point2[1])**2 , 0.5)\n",
    "def get_angle_of_line(line):\n",
    "    (point1, point2) = line\n",
    "    return math.atan2(point2[1] - point1[1], point2[0] - point1[0]) * 180 / np.pi\n",
    "\n",
    "def get_angle_to_rotate_image(image):\n",
    "    edges = canny(image, 2, 1, 25)\n",
    "    lines = probabilistic_hough_line(edges, threshold=1, line_length=5, line_gap=3)\n",
    "    longest_line = (lines[0],  get_line_lenght(lines[0][0], lines[0][1]))\n",
    "    for line in lines:\n",
    "        temp_lenght = get_line_lenght(line[0], line[1])\n",
    "        if temp_lenght > longest_line[1]:\n",
    "            longest_line = (line, temp_lenght)\n",
    "\n",
    "    angle = get_angle_of_line(longest_line[0])\n",
    "    return angle"
   ]
  },
  {
   "cell_type": "code",
   "execution_count": 249,
   "metadata": {},
   "outputs": [
    {
     "data": {
      "text/plain": [
       "((183, 124), (88, 7))"
      ]
     },
     "execution_count": 249,
     "metadata": {},
     "output_type": "execute_result"
    }
   ],
   "source": [
    "# do wersji v2\n",
    "from skimage.transform import probabilistic_hough_line\n",
    "from skimage.feature import canny\n",
    "\n",
    "\n",
    "def compare_2_numbers_with_range(n1, n2, range=3):\n",
    "    difference = abs(n1-n2)\n",
    "    return difference <= range\n",
    "compare_2_numbers_with_range(5.40, 3.10, 3)\n",
    "\n",
    "def compare_2_points_with_range(point1, point2, range=3):\n",
    "    x1, y1 = point1\n",
    "    x2, y2 = point2\n",
    "    return compare_2_numbers_with_range(x1, x2, range) and compare_2_numbers_with_range(y1, y2, range)\n",
    "compare_2_points_with_range((10,20), (8,27), 5)\n",
    "\n",
    "def check_if_perpendicular_lines(line1, line2):\n",
    "    point11, point12 = line1\n",
    "    point21, point22 = line2\n",
    "    if compare_2_points_with_range(point11, point21, 10) or compare_2_points_with_range(point11, point22, 10) or compare_2_points_with_range(point12, point21, 10):     \n",
    "        angle_between_lines = abs(get_angle_of_line(line1)-get_angle_of_line(line2))\n",
    "        if compare_2_numbers_with_range(angle_between_lines, 90, 5):\n",
    "            return True\n",
    "    \n",
    "    return False\n",
    "\n",
    "def get_base_line(img):\n",
    "    edges = canny(img, 2, 1, 25)\n",
    "    lines = probabilistic_hough_line(edges, threshold=1, line_length=int((img.shape[0]+img.shape[1])/10), line_gap=3)\n",
    "    \n",
    "    for line1 in lines:\n",
    "        counter = 0\n",
    "        for line2 in lines:\n",
    "            if check_if_perpendicular_lines(line1, line2):\n",
    "                counter += 1\n",
    "        if counter >= 2:\n",
    "            return line1\n",
    "    \n",
    "    return None\n",
    "get_base_line(io.imread(images_paths[4]))"
   ]
  },
  {
   "cell_type": "code",
   "execution_count": 236,
   "metadata": {},
   "outputs": [],
   "source": [
    "from skimage.segmentation import clear_border\n",
    "from skimage.filters import threshold_otsu\n",
    "from skimage.morphology import closing, square\n",
    "def clear_images(images):\n",
    "    images_cleared = list()\n",
    "    for img in images:\n",
    "        thresh = threshold_otsu(img)\n",
    "        bw = closing(img > thresh, square(3))\n",
    "        cleared = clear_border(bw)\n",
    "        images_cleared.append(cleared)\n",
    "    return images_cleared\n",
    "\n",
    "def rotate_images(images):\n",
    "    images_rotated = list()\n",
    "    for image_path in images_paths:\n",
    "        img = io.imread(image_path)\n",
    "        angle = get_angle_to_rotate_image(img)\n",
    "        img = rotate(img, angle)\n",
    "        images_rotated.append(img)\n",
    "    return images_rotated\n",
    "\n",
    "def cut_images_sides(images):\n",
    "    images_cut = list()\n",
    "    for img in images:\n",
    "        label_img = label(img, connectivity=2)\n",
    "        biggest_region = regionprops(label_img)[0]\n",
    "        for region in regionprops(label_img):\n",
    "            if region.area > biggest_region.area:\n",
    "                biggest_region = region\n",
    "\n",
    "    #     x,y = rectangle_perimeter((1,biggest_region.bbox[1]), (img.shape[0]-2,biggest_region.bbox[3]))\n",
    "    #     img = color.grey2rgb(img)\n",
    "    #     img[x,y] = [255,0,0]\n",
    "    #     images_rect.append(img)\n",
    "        images_cut.append(img[:,biggest_region.bbox[1]:biggest_region.bbox[3]+1])\n",
    "        \n",
    "    return images_cut"
   ]
  },
  {
   "cell_type": "code",
   "execution_count": 251,
   "metadata": {},
   "outputs": [],
   "source": [
    "# wersja używa najdłuższej linii w figurze jako podstawy\n",
    "def rotate_scale_and_cut_v1(images_paths):\n",
    "    images = [io.imread(path) for path in images_paths]\n",
    "    images = clear_images(images)\n",
    "    images = rotate_images(images)\n",
    "    \n",
    "    shape = images[0].shape\n",
    "    images = [resize(img, shape) for img in images]\n",
    "    \n",
    "#     images = cut_images_sides(images)\n",
    "    \n",
    "    return images\n",
    "\n",
    "# wersja szuka linii, które mają kąt prosty jako podstawa, chyba mniejsze zaufanie mam do tego\n",
    "def rotate_and_scale_v2(images_paths):\n",
    "    images_rotated = list()\n",
    "    for image_path in images_paths:\n",
    "        img = io.imread(image_path)\n",
    "        base_line = get_base_line(img)\n",
    "        angle = get_angle_of_line(base_line)\n",
    "        img = rotate(img, angle)\n",
    "        images_rotated.append(img)\n",
    "        \n",
    "    shape = images_rotated[0].shape\n",
    "    images_resized = [resize(img, shape) for img in images_rotated]\n",
    "    return images_resized"
   ]
  },
  {
   "cell_type": "code",
   "execution_count": 264,
   "metadata": {},
   "outputs": [
    {
     "data": {
      "image/png": "[encoded data removed]",
      "text/plain": [
       "<Figure size 432x288 with 6 Axes>"
      ]
     },
     "metadata": {
      "needs_background": "light"
     },
     "output_type": "display_data"
    }
   ],
   "source": [
    "n_of_cases = 5\n",
    "path = os.path.join('D:\\Dokumenty\\Projekty\\PIRO/project1/proj1_daneA\\set0', '')\n",
    "images_paths = glob.glob(os.path.join(path, '*.png'))\n",
    "\n",
    "images = rotate_scale_and_cut_v1(images_paths)\n",
    "fig = plt.figure()\n",
    "columns = 5\n",
    "rows = (len(images_paths)/columns)+1\n",
    "for i, img in enumerate(images):\n",
    "    fig.add_subplot(rows, columns, i+1)\n",
    "    plt.imshow(img)\n",
    "    \n"
   ]
  },
  {
   "cell_type": "code",
   "execution_count": null,
   "metadata": {},
   "outputs": [],
   "source": []
  }
 ],
 "metadata": {
  "kernelspec": {
   "display_name": "Python 3",
   "language": "python",
   "name": "python3"
  },
  "language_info": {
   "codemirror_mode": {
    "name": "ipython",
    "version": 3
   },
   "file_extension": ".py",
   "mimetype": "text/x-python",
   "name": "python",
   "nbconvert_exporter": "python",
   "pygments_lexer": "ipython3",
   "version": "3.8.2"
  }
 },
 "nbformat": 4,
 "nbformat_minor": 4
}
